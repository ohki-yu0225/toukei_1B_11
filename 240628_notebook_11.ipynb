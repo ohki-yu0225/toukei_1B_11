{
  "cells": [
    {
      "cell_type": "markdown",
      "metadata": {
        "id": "view-in-github",
        "colab_type": "text"
      },
      "source": [
        "<a href=\"https://colab.research.google.com/github/ohki-yu0225/toukei_1B_11/blob/main/240628_notebook_11.ipynb\" target=\"_parent\"><img src=\"https://colab.research.google.com/assets/colab-badge.svg\" alt=\"Open In Colab\"/></a>"
      ]
    },
    {
      "cell_type": "markdown",
      "metadata": {
        "id": "7iH4jUASaTUT"
      },
      "source": [
        "# 統計学実習 IB 第 11 回\n"
      ]
    },
    {
      "cell_type": "markdown",
      "metadata": {
        "id": "ZTDBcF-daTUX"
      },
      "source": [
        "# Statistics Practice IB 11th\n",
        "\n"
      ]
    },
    {
      "cell_type": "code",
      "execution_count": null,
      "metadata": {
        "id": "8Y3qLsHRaTUX"
      },
      "outputs": [],
      "source": [
        "# 'pandas', 'numpy', 'matplotlib.pyplot', 'japanize_matplotlib', 'scipy.stats'をインポートする。\n",
        "# Import 'pandas', 'numpy', 'matplotlib.pyplot', 'japanize_matplotlib', and 'scipy.stats'.\n",
        "!pip install japanize_matplotlib\n",
        "\n",
        "import pandas as pd\n",
        "import numpy as np\n",
        "import matplotlib.pyplot as plt\n",
        "import japanize_matplotlib\n",
        "from scipy import stats"
      ]
    },
    {
      "cell_type": "markdown",
      "metadata": {
        "id": "qNCdDfEVaTUY"
      },
      "source": [
        "## scipy.stats の使い方\n",
        "\n",
        "`scipy.stats`は確率分布を生成するためのライブラリである。確率分布の種類とパラメータを決めれば、それらに対応した確率分布を生成する。`stats`の確率分布は共通のメソッドを持っており、生成した確率分布から確率密度関数（連続値の場合、pdf）、確率質量関数（離散値の場合、pmf）、や累積分布関数(cdf)、平均値(mean)、分散(var)、標準偏差(std)などを計算できる。\n",
        "\n",
        "---\n",
        "\n",
        "```python\n",
        "一様分布 rv = stats.uniform(loc, scale) #区間[{loc}, {loc} + {scale}]の一様分布を生成\n",
        "指数分布 rv = stats.expon(scale=1 / lam) #着目事象の単位時間当たりの平均生起回数が{lam}回のときの指数分布を生成\n",
        "正規分布 rv = stats.norm(mean, std) #平均値が{mean}で標準偏差が{std}の正規分布を生成（stats.norm()のときは標準正規分布を生成）\n",
        "確率密度関数 rv.pdf(x) #連続型の確率分布の場合は確率密度関数\n",
        "確率質量関数 rv.pmf(x) #離散型の確率分布の場合は確率質量関数\n",
        "累積分布関数 rv.cdf(x) #確率変数Xがxより小さい値をとる確率\n",
        "上位n%点 rv.isf(n) #上位n%の値を取得\n",
        "```\n",
        "\n",
        "---"
      ]
    },
    {
      "cell_type": "markdown",
      "metadata": {
        "id": "wYAA71TpaTUZ"
      },
      "source": [
        "## How to use scipy.stats\n",
        "\n",
        "`scipy.stats` is a library for generating probability distributions. You can specify the type of probability distribution and parameters, and it generates probability distributions corresponding to them. The probability distributions in `stats` have common methods to calculate probability density function (pdf for continuous values), probability mass function (pmf for discrete values), cumulative distribution function (cdf), mean (mean), variance (var), standard deviation (std), etc. from the generated probability distributions.\n",
        "\n",
        "---\n",
        "```Python\n",
        "uniform distribution rv = stats.uniform(loc, scale) #Generate uniform distribution for interval [{loc}, {loc} + {scale}].\n",
        "Exponential distribution rv = stats.expon(scale=1 / lam) #Generate exponential distribution when the average number of occurrences per unit time of the event of interest is {lam} times\n",
        "Normal distribution rv = stats.norm(mean, std) #Generates a normal distribution with mean {mean} and standard deviation {std} (standard normal distribution when stats.norm())\n",
        "Probability density function rv.pdf(x) #Produces probability density function for continuous type probability distribution\n",
        "Probability mass function rv.pmf(x) #Probability mass function for discrete type probability distribution\n",
        "cumulative distribution function rv.cdf(x) #probability that the random variable X takes a value less than x\n",
        "Top n% points rv.isf(n) #Get the top n% values\n",
        "```\n",
        "---"
      ]
    },
    {
      "cell_type": "markdown",
      "metadata": {
        "id": "kI4ulWCTaTUZ"
      },
      "source": [
        "## 一様分布"
      ]
    },
    {
      "cell_type": "markdown",
      "metadata": {
        "id": "55r1Dup-aTUa"
      },
      "source": [
        "## Uniform distribution"
      ]
    },
    {
      "cell_type": "code",
      "execution_count": null,
      "metadata": {
        "id": "4JyEmeCwaTUa"
      },
      "outputs": [],
      "source": [
        "# 一様分布を生成する。\n",
        "# Generate uniform distribution.\n",
        "rv = stats.uniform(0, 1)"
      ]
    },
    {
      "cell_type": "code",
      "execution_count": null,
      "metadata": {
        "id": "FebEqFnFaTUa"
      },
      "outputs": [],
      "source": [
        "# 一様分布の確率密度関数を図示する。\n",
        "# Illustrate the probability density function of the uniform distribution.\n",
        "x_set = np.linspace(-1, 2, 100)\n",
        "plt.plot(x_set, rv.pdf(x_set))\n",
        "plt.ylabel(\"f(x)\")\n",
        "plt.xlabel(\"x\")"
      ]
    },
    {
      "cell_type": "code",
      "execution_count": null,
      "metadata": {
        "id": "ZYs8ic5xaTUb"
      },
      "outputs": [],
      "source": [
        "# 一様分布の累積分布関数を図示する。\n",
        "# Illustrate the cumulative distribution function of the uniform distribution.\n",
        "x_set = np.linspace(-1, 2, 100)\n",
        "plt.plot(x_set, rv.cdf(x_set))\n",
        "plt.ylabel(\"F(x)\")\n",
        "plt.xlabel(\"x\")"
      ]
    },
    {
      "cell_type": "code",
      "execution_count": null,
      "metadata": {
        "id": "_vHIkBfjaTUb"
      },
      "outputs": [],
      "source": [
        "# 練習1 任意の範囲の一様分布を生成する。\n",
        "# Exercise 1 Generate a uniform distribution for an arbitrary range."
      ]
    },
    {
      "cell_type": "code",
      "execution_count": null,
      "metadata": {
        "id": "rNJap1koaTUc"
      },
      "outputs": [],
      "source": [
        "# 練習2 練習1で生成した一様分布の確率密度関数を図示する。\n",
        "# Exercise 2 Illustrate the probability density function of the uniform distribution generated in Exercise 1.\n"
      ]
    },
    {
      "cell_type": "code",
      "execution_count": null,
      "metadata": {
        "id": "q4Xppd2PaTUc"
      },
      "outputs": [],
      "source": [
        "# 練習3 練習1で生成した一様分布の累積分布関数を図示する。\n",
        "# Exercise 3 Illustrate the cumulative distribution function for the uniform distribution generated in Exercise 1.\n"
      ]
    },
    {
      "cell_type": "markdown",
      "metadata": {
        "id": "ulU2-DnFaTUc"
      },
      "source": [
        "## 指数分布"
      ]
    },
    {
      "cell_type": "markdown",
      "metadata": {
        "id": "RshhBlEZaTUc"
      },
      "source": [
        "## Exponential distribution"
      ]
    },
    {
      "cell_type": "code",
      "execution_count": null,
      "metadata": {
        "id": "UCYPpSLIaTUd"
      },
      "outputs": [],
      "source": [
        "# lambda=1の指数分布を生成する。\n",
        "# Generate an exponential distribution with lambda=1.\n",
        "lam = 1\n",
        "rv = stats.expon(scale=1 / lam)"
      ]
    },
    {
      "cell_type": "code",
      "execution_count": null,
      "metadata": {
        "id": "O24QbWs8aTUd"
      },
      "outputs": [],
      "source": [
        "# 指数分布の確率密度関数を図示する。\n",
        "# Illustrate the probability density function of the exponential distribution.\n",
        "x_set = np.linspace(0, 5, 100)\n",
        "plt.plot(x_set, rv.pdf(x_set))\n",
        "plt.ylabel(\"f(x)\")\n",
        "plt.xlabel(\"x\")"
      ]
    },
    {
      "cell_type": "code",
      "execution_count": null,
      "metadata": {
        "id": "Zr3nXDgGaTUd"
      },
      "outputs": [],
      "source": [
        "# 指数分布の累積分布関数を図示する。\n",
        "# Illustrate the cumulative distribution function of the exponential distribution.\n",
        "x_set = np.linspace(0, 5, 100)\n",
        "plt.plot(x_set, rv.cdf(x_set))\n",
        "plt.ylabel(\"F(x)\")\n",
        "plt.xlabel(\"x\")"
      ]
    },
    {
      "cell_type": "code",
      "execution_count": null,
      "metadata": {
        "id": "P3XJGEuEaTUd"
      },
      "outputs": [],
      "source": [
        "# 練習4 lambdaの値を5,10,15としてそれぞれの指数分布を生成する。\n",
        "# Exercise 4 Generate exponential distributions for each of the lambda = 5, 10, and 15.\n"
      ]
    },
    {
      "cell_type": "code",
      "execution_count": null,
      "metadata": {
        "id": "X7yXc4T1aTUe"
      },
      "outputs": [],
      "source": [
        "# 練習5 練習4で生成した3種類の指数分布の確率密度関数を図示する。\n",
        "# Exercise 5 Illustrate the probability density functions of the three exponential distributions generated in Exercise 4.\n"
      ]
    },
    {
      "cell_type": "code",
      "execution_count": null,
      "metadata": {
        "id": "5R5Ys6zIaTUe"
      },
      "outputs": [],
      "source": [
        "# 練習6 練習4で生成した3種類の指数分布の確率密度関数を図示する。\n",
        "# Exercise 6 Illustrate the probability density functions of the three exponential distributions generated in Exercise 4.\n"
      ]
    },
    {
      "cell_type": "code",
      "execution_count": null,
      "metadata": {
        "id": "ZFr4ynRHaTUe"
      },
      "outputs": [],
      "source": [
        "# 練習7 1時間に平均5人来店するコンビニのあるお客さんの来店から次のお客さんの来店までの間隔が5分以内である確率を計算する。\n",
        "# ヒント：単位時間を1時間とした場合の5分までのlambda=5の指数関数の累積分布関数を計算する。\n",
        "# Exercise 7 Calculate the probability that the interval between one customer's visit and the next customer's visit is within 5 minutes in a convenience store that serves an average of 5 customers per hour.\n",
        "# Hint: Calculate the cumulative distribution function of the exponential function of lambda=5 up to 5 minutes when the unit time is 1 hour.\n"
      ]
    },
    {
      "cell_type": "code",
      "execution_count": null,
      "metadata": {
        "id": "GXyYOStzaTUe"
      },
      "outputs": [],
      "source": [
        "# 練習8 1時間に平均15人来店するコンビニの店員があるお客さんの来店から次のお客さんの来店までの間隔が5分以内である確率を計算する。\n",
        "# ヒント：単位時間を1時間とした場合の5分までのlambda=15の指数関数の累積分布関数を計算する。\n",
        "# Exercise 8 Calculate the probability that the interval between one customer's visit and the next customer's visit is within 5 minutes in a convenience store that serves an average of 15 customers per hour.\n",
        "# Hint: Calculate the cumulative distribution function of the exponential function of lambda=15 up to 5 minutes when the unit time is 1 hour.\n"
      ]
    },
    {
      "cell_type": "markdown",
      "metadata": {
        "id": "JzOzswjNaTUf"
      },
      "source": [
        "## 正規分布"
      ]
    },
    {
      "cell_type": "markdown",
      "metadata": {
        "id": "I3ORQWfDaTUf"
      },
      "source": [
        "## Normal distribution"
      ]
    },
    {
      "cell_type": "code",
      "execution_count": null,
      "metadata": {
        "id": "JO8OHMk5aTUf"
      },
      "outputs": [],
      "source": [
        "# 標準正規分布を生成する。\n",
        "# Generate standard normal distribution.\n",
        "rv = stats.norm()"
      ]
    },
    {
      "cell_type": "code",
      "execution_count": null,
      "metadata": {
        "id": "NLhTsk3PaTUf"
      },
      "outputs": [],
      "source": [
        "# 標準正規分布の確率密度関数を図示する。\n",
        "# Illustrate the probability density function of the standard normal distribution.\n",
        "x_set = np.linspace(-4, 4, 100)\n",
        "plt.plot(x_set, rv.pdf(x_set))\n",
        "plt.ylabel(\"f(x)\")\n",
        "plt.xlabel(\"x\")"
      ]
    },
    {
      "cell_type": "code",
      "execution_count": null,
      "metadata": {
        "id": "D1W8Xdl0aTUg"
      },
      "outputs": [],
      "source": [
        "# 標準正規分布の累積分布関数を図示する。\n",
        "# Illustrate the cumulative distribution function of the standard normal distribution.\n",
        "x_set = np.linspace(-4, 4, 100)\n",
        "plt.plot(x_set, rv.cdf(x_set))\n",
        "plt.ylabel(\"F(x)\")\n",
        "plt.xlabel(\"x\")"
      ]
    },
    {
      "cell_type": "code",
      "execution_count": null,
      "metadata": {
        "id": "Cy7PfisyaTUg"
      },
      "outputs": [],
      "source": [
        "# 確率変数Xが標準正規分布に従っているときXが-1より小さい値をとる確率を計算する。\n",
        "# Calculate the probability that X takes a value less than -1 when the random variable X follows a standard normal distribution.\n",
        "p1 = rv.cdf(-1)\n",
        "print(p1)"
      ]
    },
    {
      "cell_type": "code",
      "execution_count": null,
      "metadata": {
        "id": "_OAP4Ol4aTUg"
      },
      "outputs": [],
      "source": [
        "# 練習8 確率変数Xが標準正規分布に従っているときXが1より大きい値をとる確率を計算する。\n",
        "# Exercise 8 Calculate the probability that X takes a value greater than 1 when the random variable X follows a standard normal distribution.\n"
      ]
    },
    {
      "cell_type": "code",
      "execution_count": null,
      "metadata": {
        "id": "ha0mcp3QaTUg"
      },
      "outputs": [],
      "source": [
        "# 標準正規分布の上側10%点を計算する。\n",
        "# Calculate the upper 10% point of the standard normal distribution.\n",
        "z01 = rv.isf(0.1)\n",
        "print(z01)"
      ]
    },
    {
      "cell_type": "code",
      "execution_count": null,
      "metadata": {
        "id": "82nukHngaTUg"
      },
      "outputs": [],
      "source": [
        "# 練習9 標準正規分布の上側5%点を計算する。\n",
        "# Exercise 9 Calculate the upper 5% point of the standard normal distribution.\n"
      ]
    },
    {
      "cell_type": "code",
      "execution_count": null,
      "metadata": {
        "id": "PasTekn7aTUh"
      },
      "outputs": [],
      "source": [
        "# 正規分布N(10, 25^2)を生成する。\n",
        "# Generate a normal distribution N(10, 25^2).\n",
        "rv = stats.norm(10, 25)"
      ]
    },
    {
      "cell_type": "code",
      "execution_count": null,
      "metadata": {
        "id": "7-wAbZqsaTUh"
      },
      "outputs": [],
      "source": [
        "# 正規分布N(10, 25^2)の確率密度関数を図示する。\n",
        "# Illustrate the probability density function of the normal distribution N(10, 25^2).\n",
        "x_set = np.linspace(-100, 120, 100)\n",
        "plt.plot(x_set, rv.pdf(x_set))\n",
        "plt.ylabel(\"f(x)\")\n",
        "plt.xlabel(\"x\")"
      ]
    },
    {
      "cell_type": "code",
      "execution_count": null,
      "metadata": {
        "id": "V60fes-waTUh"
      },
      "outputs": [],
      "source": [
        "# 正規分布N(10, 25^2)の累積分布関数を図示する。\n",
        "# Illustrate the cumulative distribution function of the normal distribution N(10, 25^2).\n",
        "x_set = np.linspace(-100, 120, 100)\n",
        "plt.plot(x_set, rv.cdf(x_set))\n",
        "plt.ylabel(\"F(x)\")\n",
        "plt.xlabel(\"x\")"
      ]
    },
    {
      "cell_type": "code",
      "execution_count": null,
      "metadata": {
        "id": "tGoBAqudaTUi"
      },
      "outputs": [],
      "source": [
        "# 練習10 確率変数Xが正規分布Nに従っているときXが12より小さい値をとる確率を計算する。\n",
        "# Exercise 10 Calculate the probability that X takes a value less than 12 when the random variable X follows a normal distribution N.\n"
      ]
    },
    {
      "cell_type": "code",
      "execution_count": null,
      "metadata": {
        "id": "b-j0PNCAaTUi"
      },
      "outputs": [],
      "source": [
        "# 練習11 確率変数Xが正規分布Nに従っているときXが17より大きい値をとる確率を計算する。\n",
        "# Exercise 11 Calculate the probability that X takes a value greater than 17 when the random variable X follows a normal distribution N.\n"
      ]
    },
    {
      "cell_type": "code",
      "execution_count": null,
      "metadata": {
        "id": "ilDZOeMLaTUi"
      },
      "outputs": [],
      "source": [
        "# 練習12 確率変数Xが正規分布Nに従っているときXが3より大きく14より小さい値をとる確率を計算する。\n",
        "# Exercise 12 Calculate the probability that X is greater than 3 and less than 14 when the random variable X follows a normal distribution N.\n"
      ]
    },
    {
      "cell_type": "code",
      "execution_count": null,
      "metadata": {
        "id": "TjDhwNnDaTUi"
      },
      "outputs": [],
      "source": [
        "# 'sample_11.csv'を読み込んで、最初の10行を表示する。\n",
        "# Read 'sample_11.csv' and display the first 10 rows.\n",
        "df = pd.read_csv(\"sample_11.csv\")\n",
        "df.head(10)"
      ]
    },
    {
      "cell_type": "markdown",
      "metadata": {
        "id": "I4KGeM0YaTUi"
      },
      "source": [
        "Name: 名前 <br>\n",
        "Wage: 年俸 <br>\n",
        "Height: 身長"
      ]
    },
    {
      "cell_type": "code",
      "execution_count": null,
      "metadata": {
        "id": "AgTB7yjuaTUj"
      },
      "outputs": [],
      "source": [
        "# 練習13 身長の平均値を計算する。\n",
        "# Exercise 13 Calculate the average height.\n"
      ]
    },
    {
      "cell_type": "code",
      "execution_count": null,
      "metadata": {
        "id": "Jsl9AHSgaTUj"
      },
      "outputs": [],
      "source": [
        "# 練習14 身長の標準偏差を計算する。\n",
        "# Exercise 14 Calculate the standard deviation of height.\n"
      ]
    },
    {
      "cell_type": "code",
      "execution_count": null,
      "metadata": {
        "id": "EBP5tBJ7aTUj"
      },
      "outputs": [],
      "source": [
        "# 練習15 練習13・14で計算した平均値・標準偏差を用いて、正規分布を生成する。\n",
        "# Exercise 15 Generate a normal distribution using the mean and standard deviation calculated in Exercises 13 and 14.\n"
      ]
    },
    {
      "cell_type": "code",
      "execution_count": null,
      "metadata": {
        "id": "xQL8Xfl7aTUj"
      },
      "outputs": [],
      "source": [
        "# 練習16 練習15で生成した正規分布の確率密度関数と身長のヒストグラムを図示する。\n",
        "# ヒストグラムのビンの数は10とする。\n",
        "# Exercise 16 Illustrate the probability density function of the normal distribution generated in Exercise 15 and the histogram of height.\n",
        "# The number of bins in the histogram should be 10.\n"
      ]
    },
    {
      "cell_type": "code",
      "execution_count": null,
      "metadata": {
        "id": "ri9tSDyzaTUk"
      },
      "outputs": [],
      "source": []
    }
  ],
  "metadata": {
    "kernelspec": {
      "display_name": "Python 3 (ipykernel)",
      "language": "python",
      "name": "python3"
    },
    "language_info": {
      "codemirror_mode": {
        "name": "ipython",
        "version": 3
      },
      "file_extension": ".py",
      "mimetype": "text/x-python",
      "name": "python",
      "nbconvert_exporter": "python",
      "pygments_lexer": "ipython3",
      "version": "3.10.14"
    },
    "colab": {
      "provenance": [],
      "include_colab_link": true
    }
  },
  "nbformat": 4,
  "nbformat_minor": 0
}